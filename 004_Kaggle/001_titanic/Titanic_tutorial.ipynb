{
 "cells": [
  {
   "cell_type": "code",
   "execution_count": 1,
   "id": "e5fc9887",
   "metadata": {},
   "outputs": [
    {
     "name": "stdout",
     "output_type": "stream",
     "text": [
      "True\n",
      "Training on GPU NVIDIA GeForce RTX 4070 Laptop GPU\n"
     ]
    }
   ],
   "source": [
    "#cuda 사용 가능 여부\n",
    "import torch\n",
    "\n",
    "print(torch.cuda.is_available())\n",
    "\n",
    "#train.py 실행 시 GPU 사용 여부 체크\n",
    "import torch\n",
    "\n",
    "if torch.cuda.is_available():\n",
    "    device = torch.device(\"cuda\")\n",
    "    print(f'Training on GPU {torch.cuda.get_device_name(0)}')\n",
    "else:\n",
    "    device = torch.device(\"cpu\")\n",
    "    print('Training on CPU')\n"
   ]
  },
  {
   "cell_type": "code",
   "execution_count": 8,
   "id": "c466c97c",
   "metadata": {},
   "outputs": [
    {
     "name": "stdout",
     "output_type": "stream",
     "text": [
      "C:/000_SHCHOI/001_SeSAC/000_Offline/000_Data AI Developer/002_Portfolio(git)/004_Kaggle/001_titanic\\gender_submission.csv\n",
      "C:/000_SHCHOI/001_SeSAC/000_Offline/000_Data AI Developer/002_Portfolio(git)/004_Kaggle/001_titanic\\test.csv\n",
      "C:/000_SHCHOI/001_SeSAC/000_Offline/000_Data AI Developer/002_Portfolio(git)/004_Kaggle/001_titanic\\train.csv\n"
     ]
    }
   ],
   "source": [
    "import numpy as np\n",
    "import pandas as pd\n",
    "import os\n",
    "\n",
    "for dirname, _, filenames in os.walk('C:/000_SHCHOI/001_SeSAC/000_Offline/000_Data AI Developer/002_Portfolio(git)/004_Kaggle/001_titanic'):\n",
    "    for filename in filenames:\n",
    "        print(os.path.join(dirname, filename))"
   ]
  },
  {
   "cell_type": "code",
   "execution_count": null,
   "id": "856f976f",
   "metadata": {},
   "outputs": [],
   "source": [
    "train_data = "
   ]
  }
 ],
 "metadata": {
  "kernelspec": {
   "display_name": "base",
   "language": "python",
   "name": "python3"
  },
  "language_info": {
   "codemirror_mode": {
    "name": "ipython",
    "version": 3
   },
   "file_extension": ".py",
   "mimetype": "text/x-python",
   "name": "python",
   "nbconvert_exporter": "python",
   "pygments_lexer": "ipython3",
   "version": "3.12.7"
  }
 },
 "nbformat": 4,
 "nbformat_minor": 5
}
